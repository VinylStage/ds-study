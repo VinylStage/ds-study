{
 "cells": [
  {
   "cell_type": "markdown",
   "id": "9633574f-90a5-47d3-9ae9-01e5b5b54c85",
   "metadata": {
    "tags": []
   },
   "source": [
    "# 주피터 노트북 사용법\n",
    "* Shift + Enter 키를 누르면 셀이 실행되고 커서가 다음셀로 이동합니다.\n",
    "* Enter 키를 누르면 다시 편집 상태로 돌아옵니다.\n",
    "* ESC 키를 누르고\n",
    "    * a 키를 누르면 위에 셀이 추가됩니다.\n",
    "    * b 키를 누르면 아래에 셀이 추가 됩니다.\n",
    "    * dd 키를 누르면 셀이 삭제됩니다.\n",
    "    * m 키를 누르면 문서 셀로 변경됩니다.\n",
    "    * y 키를 누르면 코드 셀로 변경됩니다."
   ]
  },
  {
   "cell_type": "code",
   "execution_count": 3,
   "id": "26eeff69-26b8-4605-a083-871539840fcf",
   "metadata": {
    "tags": []
   },
   "outputs": [
    {
     "name": "stdout",
     "output_type": "stream",
     "text": [
      "Hello World!\n"
     ]
    }
   ],
   "source": [
    "print(\"Hello World!\")"
   ]
  },
  {
   "cell_type": "code",
   "execution_count": 8,
   "id": "0841333e-f56f-4339-acc3-679fc9f0e939",
   "metadata": {
    "tags": []
   },
   "outputs": [
    {
     "name": "stdout",
     "output_type": "stream",
     "text": [
      "3\n"
     ]
    }
   ],
   "source": [
    "a = 1\n",
    "b = 2\n",
    "print(a + b)"
   ]
  },
  {
   "cell_type": "code",
   "execution_count": 13,
   "id": "f25d323c-50ed-420f-9e92-76f25cbae537",
   "metadata": {
    "tags": []
   },
   "outputs": [],
   "source": [
    "import pandas as pd"
   ]
  },
  {
   "cell_type": "code",
   "execution_count": 14,
   "id": "09b6f64c-7bbc-4d7c-af39-1b6ddf66a5aa",
   "metadata": {
    "tags": []
   },
   "outputs": [
    {
     "data": {
      "text/html": [
       "<div>\n",
       "<style scoped>\n",
       "    .dataframe tbody tr th:only-of-type {\n",
       "        vertical-align: middle;\n",
       "    }\n",
       "\n",
       "    .dataframe tbody tr th {\n",
       "        vertical-align: top;\n",
       "    }\n",
       "\n",
       "    .dataframe thead th {\n",
       "        text-align: right;\n",
       "    }\n",
       "</style>\n",
       "<table border=\"1\" class=\"dataframe\">\n",
       "  <thead>\n",
       "    <tr style=\"text-align: right;\">\n",
       "      <th></th>\n",
       "      <th>a</th>\n",
       "      <th>b</th>\n",
       "      <th>c</th>\n",
       "    </tr>\n",
       "  </thead>\n",
       "  <tbody>\n",
       "    <tr>\n",
       "      <th>1</th>\n",
       "      <td>4</td>\n",
       "      <td>7</td>\n",
       "      <td>10</td>\n",
       "    </tr>\n",
       "    <tr>\n",
       "      <th>2</th>\n",
       "      <td>5</td>\n",
       "      <td>8</td>\n",
       "      <td>11</td>\n",
       "    </tr>\n",
       "    <tr>\n",
       "      <th>3</th>\n",
       "      <td>6</td>\n",
       "      <td>9</td>\n",
       "      <td>12</td>\n",
       "    </tr>\n",
       "  </tbody>\n",
       "</table>\n",
       "</div>"
      ],
      "text/plain": [
       "   a  b   c\n",
       "1  4  7  10\n",
       "2  5  8  11\n",
       "3  6  9  12"
      ]
     },
     "execution_count": 14,
     "metadata": {},
     "output_type": "execute_result"
    }
   ],
   "source": [
    "df = pd.DataFrame(\n",
    "{\"a\" : [4, 5, 6],\n",
    "\"b\" : [7, 8, 9],\n",
    "\"c\" : [10, 11, 12]},\n",
    "index = [1, 2, 3])\n",
    "df"
   ]
  },
  {
   "cell_type": "code",
   "execution_count": 15,
   "id": "4409bf7a-b358-44e2-a151-9611d3ea4e2b",
   "metadata": {
    "tags": []
   },
   "outputs": [
    {
     "data": {
      "text/plain": [
       "1    4\n",
       "2    5\n",
       "3    6\n",
       "Name: a, dtype: int64"
      ]
     },
     "execution_count": 15,
     "metadata": {},
     "output_type": "execute_result"
    }
   ],
   "source": [
    "df[\"a\"]"
   ]
  },
  {
   "cell_type": "code",
   "execution_count": 16,
   "id": "b356289c-b69a-4a57-be9d-610cf610f8a3",
   "metadata": {
    "tags": []
   },
   "outputs": [
    {
     "data": {
      "text/html": [
       "<div>\n",
       "<style scoped>\n",
       "    .dataframe tbody tr th:only-of-type {\n",
       "        vertical-align: middle;\n",
       "    }\n",
       "\n",
       "    .dataframe tbody tr th {\n",
       "        vertical-align: top;\n",
       "    }\n",
       "\n",
       "    .dataframe thead th {\n",
       "        text-align: right;\n",
       "    }\n",
       "</style>\n",
       "<table border=\"1\" class=\"dataframe\">\n",
       "  <thead>\n",
       "    <tr style=\"text-align: right;\">\n",
       "      <th></th>\n",
       "      <th>a</th>\n",
       "    </tr>\n",
       "  </thead>\n",
       "  <tbody>\n",
       "    <tr>\n",
       "      <th>1</th>\n",
       "      <td>4</td>\n",
       "    </tr>\n",
       "    <tr>\n",
       "      <th>2</th>\n",
       "      <td>5</td>\n",
       "    </tr>\n",
       "    <tr>\n",
       "      <th>3</th>\n",
       "      <td>6</td>\n",
       "    </tr>\n",
       "  </tbody>\n",
       "</table>\n",
       "</div>"
      ],
      "text/plain": [
       "   a\n",
       "1  4\n",
       "2  5\n",
       "3  6"
      ]
     },
     "execution_count": 16,
     "metadata": {},
     "output_type": "execute_result"
    }
   ],
   "source": [
    "df[[\"a\"]]"
   ]
  },
  {
   "cell_type": "code",
   "execution_count": 21,
   "id": "7d0bb6ee-ba77-4959-856b-6d8f1539cff5",
   "metadata": {
    "tags": []
   },
   "outputs": [
    {
     "data": {
      "text/plain": [
       "a\n",
       "4    1\n",
       "5    1\n",
       "6    1\n",
       "Name: count, dtype: int64"
      ]
     },
     "execution_count": 21,
     "metadata": {},
     "output_type": "execute_result"
    }
   ],
   "source": [
    "df[\"a\"].value_counts()"
   ]
  },
  {
   "cell_type": "code",
   "execution_count": 22,
   "id": "163922b3-3794-45a2-abb4-8af3268ef07f",
   "metadata": {
    "tags": []
   },
   "outputs": [
    {
     "data": {
      "text/plain": [
       "<Axes: >"
      ]
     },
     "execution_count": 22,
     "metadata": {},
     "output_type": "execute_result"
    },
    {
     "data": {
      "image/png": "[encoded data removed]",
      "text/plain": [
       "<Figure size 640x480 with 1 Axes>"
      ]
     },
     "metadata": {},
     "output_type": "display_data"
    }
   ],
   "source": [
    "df.plot()"
   ]
  },
  {
   "cell_type": "code",
   "execution_count": 23,
   "id": "95925a96-7c8a-435b-a531-c3d544dcbd07",
   "metadata": {
    "tags": []
   },
   "outputs": [
    {
     "data": {
      "text/plain": [
       "<Axes: >"
      ]
     },
     "execution_count": 23,
     "metadata": {},
     "output_type": "execute_result"
    },
    {
     "data": {
      "image/png": "[encoded data removed]",
      "text/plain": [
       "<Figure size 640x480 with 1 Axes>"
      ]
     },
     "metadata": {},
     "output_type": "display_data"
    }
   ],
   "source": [
    "df.plot.bar()"
   ]
  },
  {
   "cell_type": "code",
   "execution_count": 24,
   "id": "d49ba109-1c7e-4d8b-a072-440912a67e2b",
   "metadata": {
    "tags": []
   },
   "outputs": [
    {
     "data": {
      "text/plain": [
       "<Axes: ylabel='Density'>"
      ]
     },
     "execution_count": 24,
     "metadata": {},
     "output_type": "execute_result"
    },
    {
     "data": {
      "image/png": "[encoded data removed]",
      "text/plain": [
       "<Figure size 640x480 with 1 Axes>"
      ]
     },
     "metadata": {},
     "output_type": "display_data"
    }
   ],
   "source": [
    "df.plot.density()"
   ]
  },
  {
   "cell_type": "code",
   "execution_count": 25,
   "id": "f36f9e52-f562-4151-8433-f098a1942d02",
   "metadata": {
    "tags": []
   },
   "outputs": [
    {
     "data": {
      "text/plain": [
       "'C:\\\\Users\\\\mcpe9'"
      ]
     },
     "execution_count": 25,
     "metadata": {},
     "output_type": "execute_result"
    }
   ],
   "source": [
    "%pwd"
   ]
  },
  {
   "cell_type": "code",
   "execution_count": 26,
   "id": "375a8999-47b2-431d-a097-3ce6036e0b6d",
   "metadata": {
    "tags": []
   },
   "outputs": [
    {
     "data": {
      "text/plain": [
       "'C:\\\\Users\\\\mcpe9'"
      ]
     },
     "execution_count": 26,
     "metadata": {},
     "output_type": "execute_result"
    }
   ],
   "source": [
    "import os\n",
    "os.getcwd()"
   ]
  },
  {
   "cell_type": "code",
   "execution_count": 27,
   "id": "37775dae-726e-4b77-9601-6cf47db17ccb",
   "metadata": {
    "tags": []
   },
   "outputs": [],
   "source": [
    "import pandas as pd"
   ]
  },
  {
   "cell_type": "code",
   "execution_count": 34,
   "id": "cfb325a4-2f62-48e7-a8e5-f3598fdd6efe",
   "metadata": {
    "tags": []
   },
   "outputs": [
    {
     "data": {
      "text/html": [
       "<div>\n",
       "<style scoped>\n",
       "    .dataframe tbody tr th:only-of-type {\n",
       "        vertical-align: middle;\n",
       "    }\n",
       "\n",
       "    .dataframe tbody tr th {\n",
       "        vertical-align: top;\n",
       "    }\n",
       "\n",
       "    .dataframe thead th {\n",
       "        text-align: right;\n",
       "    }\n",
       "</style>\n",
       "<table border=\"1\" class=\"dataframe\">\n",
       "  <thead>\n",
       "    <tr style=\"text-align: right;\">\n",
       "      <th></th>\n",
       "      <th>발생월</th>\n",
       "      <th>주야</th>\n",
       "      <th>사고건수</th>\n",
       "      <th>사망자수</th>\n",
       "      <th>중상자수</th>\n",
       "      <th>경상자수</th>\n",
       "      <th>부상신고자수</th>\n",
       "    </tr>\n",
       "  </thead>\n",
       "  <tbody>\n",
       "    <tr>\n",
       "      <th>0</th>\n",
       "      <td>1</td>\n",
       "      <td>주</td>\n",
       "      <td>9588</td>\n",
       "      <td>90</td>\n",
       "      <td>2546</td>\n",
       "      <td>10464</td>\n",
       "      <td>792</td>\n",
       "    </tr>\n",
       "    <tr>\n",
       "      <th>1</th>\n",
       "      <td>1</td>\n",
       "      <td>야</td>\n",
       "      <td>6306</td>\n",
       "      <td>103</td>\n",
       "      <td>1690</td>\n",
       "      <td>6795</td>\n",
       "      <td>504</td>\n",
       "    </tr>\n",
       "    <tr>\n",
       "      <th>2</th>\n",
       "      <td>2</td>\n",
       "      <td>주</td>\n",
       "      <td>7575</td>\n",
       "      <td>78</td>\n",
       "      <td>2001</td>\n",
       "      <td>8228</td>\n",
       "      <td>657</td>\n",
       "    </tr>\n",
       "    <tr>\n",
       "      <th>3</th>\n",
       "      <td>2</td>\n",
       "      <td>야</td>\n",
       "      <td>4787</td>\n",
       "      <td>83</td>\n",
       "      <td>1300</td>\n",
       "      <td>4981</td>\n",
       "      <td>421</td>\n",
       "    </tr>\n",
       "    <tr>\n",
       "      <th>4</th>\n",
       "      <td>3</td>\n",
       "      <td>주</td>\n",
       "      <td>8322</td>\n",
       "      <td>96</td>\n",
       "      <td>2167</td>\n",
       "      <td>8783</td>\n",
       "      <td>600</td>\n",
       "    </tr>\n",
       "    <tr>\n",
       "      <th>5</th>\n",
       "      <td>3</td>\n",
       "      <td>야</td>\n",
       "      <td>5298</td>\n",
       "      <td>87</td>\n",
       "      <td>1473</td>\n",
       "      <td>5393</td>\n",
       "      <td>437</td>\n",
       "    </tr>\n",
       "    <tr>\n",
       "      <th>6</th>\n",
       "      <td>4</td>\n",
       "      <td>주</td>\n",
       "      <td>10472</td>\n",
       "      <td>112</td>\n",
       "      <td>2798</td>\n",
       "      <td>11475</td>\n",
       "      <td>961</td>\n",
       "    </tr>\n",
       "    <tr>\n",
       "      <th>7</th>\n",
       "      <td>4</td>\n",
       "      <td>야</td>\n",
       "      <td>6000</td>\n",
       "      <td>104</td>\n",
       "      <td>1680</td>\n",
       "      <td>6398</td>\n",
       "      <td>487</td>\n",
       "    </tr>\n",
       "    <tr>\n",
       "      <th>8</th>\n",
       "      <td>5</td>\n",
       "      <td>주</td>\n",
       "      <td>11749</td>\n",
       "      <td>136</td>\n",
       "      <td>3198</td>\n",
       "      <td>12531</td>\n",
       "      <td>1107</td>\n",
       "    </tr>\n",
       "    <tr>\n",
       "      <th>9</th>\n",
       "      <td>5</td>\n",
       "      <td>야</td>\n",
       "      <td>6316</td>\n",
       "      <td>99</td>\n",
       "      <td>1674</td>\n",
       "      <td>6676</td>\n",
       "      <td>586</td>\n",
       "    </tr>\n",
       "    <tr>\n",
       "      <th>10</th>\n",
       "      <td>6</td>\n",
       "      <td>주</td>\n",
       "      <td>10377</td>\n",
       "      <td>139</td>\n",
       "      <td>2746</td>\n",
       "      <td>11055</td>\n",
       "      <td>940</td>\n",
       "    </tr>\n",
       "    <tr>\n",
       "      <th>11</th>\n",
       "      <td>6</td>\n",
       "      <td>야</td>\n",
       "      <td>6104</td>\n",
       "      <td>92</td>\n",
       "      <td>1692</td>\n",
       "      <td>6396</td>\n",
       "      <td>600</td>\n",
       "    </tr>\n",
       "    <tr>\n",
       "      <th>12</th>\n",
       "      <td>7</td>\n",
       "      <td>주</td>\n",
       "      <td>10780</td>\n",
       "      <td>120</td>\n",
       "      <td>2802</td>\n",
       "      <td>11993</td>\n",
       "      <td>1032</td>\n",
       "    </tr>\n",
       "    <tr>\n",
       "      <th>13</th>\n",
       "      <td>7</td>\n",
       "      <td>야</td>\n",
       "      <td>6335</td>\n",
       "      <td>121</td>\n",
       "      <td>1697</td>\n",
       "      <td>6684</td>\n",
       "      <td>604</td>\n",
       "    </tr>\n",
       "    <tr>\n",
       "      <th>14</th>\n",
       "      <td>8</td>\n",
       "      <td>주</td>\n",
       "      <td>10360</td>\n",
       "      <td>124</td>\n",
       "      <td>2669</td>\n",
       "      <td>11560</td>\n",
       "      <td>953</td>\n",
       "    </tr>\n",
       "    <tr>\n",
       "      <th>15</th>\n",
       "      <td>8</td>\n",
       "      <td>야</td>\n",
       "      <td>6136</td>\n",
       "      <td>118</td>\n",
       "      <td>1632</td>\n",
       "      <td>6598</td>\n",
       "      <td>542</td>\n",
       "    </tr>\n",
       "    <tr>\n",
       "      <th>16</th>\n",
       "      <td>9</td>\n",
       "      <td>주</td>\n",
       "      <td>10799</td>\n",
       "      <td>146</td>\n",
       "      <td>2754</td>\n",
       "      <td>11810</td>\n",
       "      <td>967</td>\n",
       "    </tr>\n",
       "    <tr>\n",
       "      <th>17</th>\n",
       "      <td>9</td>\n",
       "      <td>야</td>\n",
       "      <td>6417</td>\n",
       "      <td>111</td>\n",
       "      <td>1694</td>\n",
       "      <td>6805</td>\n",
       "      <td>614</td>\n",
       "    </tr>\n",
       "    <tr>\n",
       "      <th>18</th>\n",
       "      <td>10</td>\n",
       "      <td>주</td>\n",
       "      <td>11590</td>\n",
       "      <td>168</td>\n",
       "      <td>3083</td>\n",
       "      <td>12795</td>\n",
       "      <td>1097</td>\n",
       "    </tr>\n",
       "    <tr>\n",
       "      <th>19</th>\n",
       "      <td>10</td>\n",
       "      <td>야</td>\n",
       "      <td>6918</td>\n",
       "      <td>117</td>\n",
       "      <td>1800</td>\n",
       "      <td>7384</td>\n",
       "      <td>616</td>\n",
       "    </tr>\n",
       "    <tr>\n",
       "      <th>20</th>\n",
       "      <td>11</td>\n",
       "      <td>주</td>\n",
       "      <td>10944</td>\n",
       "      <td>159</td>\n",
       "      <td>2838</td>\n",
       "      <td>11474</td>\n",
       "      <td>1017</td>\n",
       "    </tr>\n",
       "    <tr>\n",
       "      <th>21</th>\n",
       "      <td>11</td>\n",
       "      <td>야</td>\n",
       "      <td>6634</td>\n",
       "      <td>98</td>\n",
       "      <td>1706</td>\n",
       "      <td>7087</td>\n",
       "      <td>621</td>\n",
       "    </tr>\n",
       "    <tr>\n",
       "      <th>22</th>\n",
       "      <td>12</td>\n",
       "      <td>주</td>\n",
       "      <td>10416</td>\n",
       "      <td>133</td>\n",
       "      <td>2510</td>\n",
       "      <td>11547</td>\n",
       "      <td>920</td>\n",
       "    </tr>\n",
       "    <tr>\n",
       "      <th>23</th>\n",
       "      <td>12</td>\n",
       "      <td>야</td>\n",
       "      <td>6613</td>\n",
       "      <td>101</td>\n",
       "      <td>1565</td>\n",
       "      <td>7518</td>\n",
       "      <td>583</td>\n",
       "    </tr>\n",
       "  </tbody>\n",
       "</table>\n",
       "</div>"
      ],
      "text/plain": [
       "    발생월 주야   사고건수  사망자수  중상자수   경상자수  부상신고자수\n",
       "0     1  주   9588    90  2546  10464     792\n",
       "1     1  야   6306   103  1690   6795     504\n",
       "2     2  주   7575    78  2001   8228     657\n",
       "3     2  야   4787    83  1300   4981     421\n",
       "4     3  주   8322    96  2167   8783     600\n",
       "5     3  야   5298    87  1473   5393     437\n",
       "6     4  주  10472   112  2798  11475     961\n",
       "7     4  야   6000   104  1680   6398     487\n",
       "8     5  주  11749   136  3198  12531    1107\n",
       "9     5  야   6316    99  1674   6676     586\n",
       "10    6  주  10377   139  2746  11055     940\n",
       "11    6  야   6104    92  1692   6396     600\n",
       "12    7  주  10780   120  2802  11993    1032\n",
       "13    7  야   6335   121  1697   6684     604\n",
       "14    8  주  10360   124  2669  11560     953\n",
       "15    8  야   6136   118  1632   6598     542\n",
       "16    9  주  10799   146  2754  11810     967\n",
       "17    9  야   6417   111  1694   6805     614\n",
       "18   10  주  11590   168  3083  12795    1097\n",
       "19   10  야   6918   117  1800   7384     616\n",
       "20   11  주  10944   159  2838  11474    1017\n",
       "21   11  야   6634    98  1706   7087     621\n",
       "22   12  주  10416   133  2510  11547     920\n",
       "23   12  야   6613   101  1565   7518     583"
      ]
     },
     "execution_count": 34,
     "metadata": {},
     "output_type": "execute_result"
    }
   ],
   "source": [
    "pd.read_csv(\"vinylab/data/도로교통공단_월별 주야별 교통사고 통계_20221231.csv\", encoding=\"cp949\")"
   ]
  },
  {
   "cell_type": "code",
   "execution_count": 41,
   "id": "8caf6e3b-3a0f-4100-86a0-f6fe24415667",
   "metadata": {
    "tags": []
   },
   "outputs": [
    {
     "data": {
      "text/plain": [
       "['vinylab/data\\\\도로교통공단_월별 주야별 교통사고 통계_20221231.csv']"
      ]
     },
     "execution_count": 41,
     "metadata": {},
     "output_type": "execute_result"
    }
   ],
   "source": [
    "from glob import glob\n",
    "\n",
    "file_name = glob(\"vinylab/data/*\")\n",
    "file_name"
   ]
  },
  {
   "cell_type": "code",
   "execution_count": 48,
   "id": "0ab10325-7422-46c8-bc6c-a685c24605c7",
   "metadata": {
    "tags": []
   },
   "outputs": [],
   "source": [
    "file_csv = glob(\"vinylab/data/소상*/*.csv\")"
   ]
  },
  {
   "cell_type": "code",
   "execution_count": 49,
   "id": "45f75ec6-81f5-480a-b73c-1ad275515eea",
   "metadata": {
    "tags": []
   },
   "outputs": [
    {
     "name": "stdout",
     "output_type": "stream",
     "text": [
      "vinylab/data\\소상공인시장진흥공단_상가(상권)정보_20230630 (1)\\소상공인시장진흥공단_상가(상권)정보_강원_202306.csv\n",
      "vinylab/data\\소상공인시장진흥공단_상가(상권)정보_20230630 (1)\\소상공인시장진흥공단_상가(상권)정보_경기_202306.csv\n",
      "vinylab/data\\소상공인시장진흥공단_상가(상권)정보_20230630 (1)\\소상공인시장진흥공단_상가(상권)정보_경남_202306.csv\n",
      "vinylab/data\\소상공인시장진흥공단_상가(상권)정보_20230630 (1)\\소상공인시장진흥공단_상가(상권)정보_경북_202306.csv\n",
      "vinylab/data\\소상공인시장진흥공단_상가(상권)정보_20230630 (1)\\소상공인시장진흥공단_상가(상권)정보_광주_202306.csv\n",
      "vinylab/data\\소상공인시장진흥공단_상가(상권)정보_20230630 (1)\\소상공인시장진흥공단_상가(상권)정보_대구_202306.csv\n",
      "vinylab/data\\소상공인시장진흥공단_상가(상권)정보_20230630 (1)\\소상공인시장진흥공단_상가(상권)정보_대전_202306.csv\n",
      "vinylab/data\\소상공인시장진흥공단_상가(상권)정보_20230630 (1)\\소상공인시장진흥공단_상가(상권)정보_부산_202306.csv\n",
      "vinylab/data\\소상공인시장진흥공단_상가(상권)정보_20230630 (1)\\소상공인시장진흥공단_상가(상권)정보_서울_202306.csv\n",
      "vinylab/data\\소상공인시장진흥공단_상가(상권)정보_20230630 (1)\\소상공인시장진흥공단_상가(상권)정보_세종_202306.csv\n",
      "vinylab/data\\소상공인시장진흥공단_상가(상권)정보_20230630 (1)\\소상공인시장진흥공단_상가(상권)정보_울산_202306.csv\n",
      "vinylab/data\\소상공인시장진흥공단_상가(상권)정보_20230630 (1)\\소상공인시장진흥공단_상가(상권)정보_인천_202306.csv\n",
      "vinylab/data\\소상공인시장진흥공단_상가(상권)정보_20230630 (1)\\소상공인시장진흥공단_상가(상권)정보_전남_202306.csv\n",
      "vinylab/data\\소상공인시장진흥공단_상가(상권)정보_20230630 (1)\\소상공인시장진흥공단_상가(상권)정보_전북_202306.csv\n",
      "vinylab/data\\소상공인시장진흥공단_상가(상권)정보_20230630 (1)\\소상공인시장진흥공단_상가(상권)정보_제주_202306.csv\n",
      "vinylab/data\\소상공인시장진흥공단_상가(상권)정보_20230630 (1)\\소상공인시장진흥공단_상가(상권)정보_충남_202306.csv\n",
      "vinylab/data\\소상공인시장진흥공단_상가(상권)정보_20230630 (1)\\소상공인시장진흥공단_상가(상권)정보_충북_202306.csv\n"
     ]
    }
   ],
   "source": [
    "for file_csv_name in file_csv:\n",
    "    print(file_csv_name)"
   ]
  },
  {
   "cell_type": "code",
   "execution_count": 54,
   "id": "cf2afc3e-1d70-4dda-a2eb-21b333d200d4",
   "metadata": {
    "tags": []
   },
   "outputs": [],
   "source": [
    "file_list = [pd.read_csv(i, low_memory=False) for i in file_csv]"
   ]
  },
  {
   "cell_type": "code",
   "execution_count": 55,
   "id": "c95b378c-83a9-4f86-b236-48ebad09b1a0",
   "metadata": {
    "tags": []
   },
   "outputs": [
    {
     "data": {
      "text/plain": [
       "(2504940, 39)"
      ]
     },
     "execution_count": 55,
     "metadata": {},
     "output_type": "execute_result"
    }
   ],
   "source": [
    "df = pd.concat(file_list)\n",
    "df.shape"
   ]
  },
  {
   "cell_type": "code",
   "execution_count": 56,
   "id": "92fc65cf-aeea-428a-972d-06903c61a478",
   "metadata": {
    "tags": []
   },
   "outputs": [
    {
     "data": {
      "text/html": [
       "<div>\n",
       "<style scoped>\n",
       "    .dataframe tbody tr th:only-of-type {\n",
       "        vertical-align: middle;\n",
       "    }\n",
       "\n",
       "    .dataframe tbody tr th {\n",
       "        vertical-align: top;\n",
       "    }\n",
       "\n",
       "    .dataframe thead th {\n",
       "        text-align: right;\n",
       "    }\n",
       "</style>\n",
       "<table border=\"1\" class=\"dataframe\">\n",
       "  <thead>\n",
       "    <tr style=\"text-align: right;\">\n",
       "      <th></th>\n",
       "      <th>상가업소번호</th>\n",
       "      <th>상호명</th>\n",
       "      <th>지점명</th>\n",
       "      <th>상권업종대분류코드</th>\n",
       "      <th>상권업종대분류명</th>\n",
       "      <th>상권업종중분류코드</th>\n",
       "      <th>상권업종중분류명</th>\n",
       "      <th>상권업종소분류코드</th>\n",
       "      <th>상권업종소분류명</th>\n",
       "      <th>표준산업분류코드</th>\n",
       "      <th>...</th>\n",
       "      <th>건물관리번호</th>\n",
       "      <th>건물명</th>\n",
       "      <th>도로명주소</th>\n",
       "      <th>구우편번호</th>\n",
       "      <th>신우편번호</th>\n",
       "      <th>동정보</th>\n",
       "      <th>층정보</th>\n",
       "      <th>호정보</th>\n",
       "      <th>경도</th>\n",
       "      <th>위도</th>\n",
       "    </tr>\n",
       "  </thead>\n",
       "  <tbody>\n",
       "    <tr>\n",
       "      <th>0</th>\n",
       "      <td>MA0101202210A0084547</td>\n",
       "      <td>금강산노래광장</td>\n",
       "      <td>NaN</td>\n",
       "      <td>I2</td>\n",
       "      <td>음식</td>\n",
       "      <td>I211</td>\n",
       "      <td>주점</td>\n",
       "      <td>I21101</td>\n",
       "      <td>일반 유흥 주점</td>\n",
       "      <td>I56211</td>\n",
       "      <td>...</td>\n",
       "      <td>4217010300007470000000086</td>\n",
       "      <td>파크장</td>\n",
       "      <td>강원특별자치도 동해시 송정로 11</td>\n",
       "      <td>240806</td>\n",
       "      <td>25789</td>\n",
       "      <td>NaN</td>\n",
       "      <td>지</td>\n",
       "      <td>NaN</td>\n",
       "      <td>129.127525</td>\n",
       "      <td>37.495265</td>\n",
       "    </tr>\n",
       "    <tr>\n",
       "      <th>1</th>\n",
       "      <td>MA010120220805430826</td>\n",
       "      <td>에이치속눈썹수강아카데미</td>\n",
       "      <td>NaN</td>\n",
       "      <td>S2</td>\n",
       "      <td>수리·개인</td>\n",
       "      <td>S207</td>\n",
       "      <td>이용·미용</td>\n",
       "      <td>S20702</td>\n",
       "      <td>피부 관리실</td>\n",
       "      <td>S96113</td>\n",
       "      <td>...</td>\n",
       "      <td>4211039021110620001000001</td>\n",
       "      <td>NaN</td>\n",
       "      <td>강원특별자치도 춘천시 동내면 외솔길19번길 80-36</td>\n",
       "      <td>200883</td>\n",
       "      <td>24401</td>\n",
       "      <td>NaN</td>\n",
       "      <td>NaN</td>\n",
       "      <td>NaN</td>\n",
       "      <td>127.758764</td>\n",
       "      <td>37.857831</td>\n",
       "    </tr>\n",
       "    <tr>\n",
       "      <th>2</th>\n",
       "      <td>MA010120220805430903</td>\n",
       "      <td>엔젤</td>\n",
       "      <td>NaN</td>\n",
       "      <td>I2</td>\n",
       "      <td>음식</td>\n",
       "      <td>I201</td>\n",
       "      <td>한식</td>\n",
       "      <td>I20101</td>\n",
       "      <td>백반/한정식</td>\n",
       "      <td>I55109</td>\n",
       "      <td>...</td>\n",
       "      <td>4277032022103660000008290</td>\n",
       "      <td>NaN</td>\n",
       "      <td>강원특별자치도 정선군 남면 민둥산로 175-13</td>\n",
       "      <td>233837</td>\n",
       "      <td>26148</td>\n",
       "      <td>NaN</td>\n",
       "      <td>NaN</td>\n",
       "      <td>NaN</td>\n",
       "      <td>128.792089</td>\n",
       "      <td>37.259788</td>\n",
       "    </tr>\n",
       "    <tr>\n",
       "      <th>3</th>\n",
       "      <td>MA010120220805430941</td>\n",
       "      <td>누베헤어</td>\n",
       "      <td>NaN</td>\n",
       "      <td>S2</td>\n",
       "      <td>수리·개인</td>\n",
       "      <td>S207</td>\n",
       "      <td>이용·미용</td>\n",
       "      <td>S20701</td>\n",
       "      <td>미용실</td>\n",
       "      <td>S96112</td>\n",
       "      <td>...</td>\n",
       "      <td>4211012500100440010000008</td>\n",
       "      <td>춘천파크자이</td>\n",
       "      <td>강원특별자치도 춘천시 스포츠타운길 460</td>\n",
       "      <td>200200</td>\n",
       "      <td>24472</td>\n",
       "      <td>NaN</td>\n",
       "      <td>3</td>\n",
       "      <td>NaN</td>\n",
       "      <td>127.707653</td>\n",
       "      <td>37.867744</td>\n",
       "    </tr>\n",
       "    <tr>\n",
       "      <th>4</th>\n",
       "      <td>MA010120220805430946</td>\n",
       "      <td>공차</td>\n",
       "      <td>NaN</td>\n",
       "      <td>I2</td>\n",
       "      <td>음식</td>\n",
       "      <td>I212</td>\n",
       "      <td>비알코올</td>\n",
       "      <td>I21201</td>\n",
       "      <td>카페</td>\n",
       "      <td>I56229</td>\n",
       "      <td>...</td>\n",
       "      <td>4213033023113500001000001</td>\n",
       "      <td>NaN</td>\n",
       "      <td>강원특별자치도 원주시 지정면 신지정로 211</td>\n",
       "      <td>220821</td>\n",
       "      <td>26354</td>\n",
       "      <td>NaN</td>\n",
       "      <td>NaN</td>\n",
       "      <td>NaN</td>\n",
       "      <td>127.872713</td>\n",
       "      <td>37.374189</td>\n",
       "    </tr>\n",
       "  </tbody>\n",
       "</table>\n",
       "<p>5 rows × 39 columns</p>\n",
       "</div>"
      ],
      "text/plain": [
       "                 상가업소번호           상호명  지점명 상권업종대분류코드 상권업종대분류명 상권업종중분류코드  \\\n",
       "0  MA0101202210A0084547       금강산노래광장  NaN        I2       음식      I211   \n",
       "1  MA010120220805430826  에이치속눈썹수강아카데미  NaN        S2    수리·개인      S207   \n",
       "2  MA010120220805430903            엔젤  NaN        I2       음식      I201   \n",
       "3  MA010120220805430941          누베헤어  NaN        S2    수리·개인      S207   \n",
       "4  MA010120220805430946            공차  NaN        I2       음식      I212   \n",
       "\n",
       "  상권업종중분류명 상권업종소분류코드  상권업종소분류명 표준산업분류코드  ...                     건물관리번호  \\\n",
       "0       주점    I21101  일반 유흥 주점   I56211  ...  4217010300007470000000086   \n",
       "1    이용·미용    S20702    피부 관리실   S96113  ...  4211039021110620001000001   \n",
       "2       한식    I20101    백반/한정식   I55109  ...  4277032022103660000008290   \n",
       "3    이용·미용    S20701       미용실   S96112  ...  4211012500100440010000008   \n",
       "4    비알코올     I21201        카페   I56229  ...  4213033023113500001000001   \n",
       "\n",
       "      건물명                          도로명주소   구우편번호  신우편번호  동정보  층정보  호정보  \\\n",
       "0     파크장             강원특별자치도 동해시 송정로 11  240806  25789  NaN    지  NaN   \n",
       "1     NaN  강원특별자치도 춘천시 동내면 외솔길19번길 80-36  200883  24401  NaN  NaN  NaN   \n",
       "2     NaN     강원특별자치도 정선군 남면 민둥산로 175-13  233837  26148  NaN  NaN  NaN   \n",
       "3  춘천파크자이         강원특별자치도 춘천시 스포츠타운길 460  200200  24472  NaN    3  NaN   \n",
       "4     NaN       강원특별자치도 원주시 지정면 신지정로 211  220821  26354  NaN  NaN  NaN   \n",
       "\n",
       "           경도         위도  \n",
       "0  129.127525  37.495265  \n",
       "1  127.758764  37.857831  \n",
       "2  128.792089  37.259788  \n",
       "3  127.707653  37.867744  \n",
       "4  127.872713  37.374189  \n",
       "\n",
       "[5 rows x 39 columns]"
      ]
     },
     "execution_count": 56,
     "metadata": {},
     "output_type": "execute_result"
    }
   ],
   "source": [
    "df.head()"
   ]
  },
  {
   "cell_type": "code",
   "execution_count": 57,
   "id": "cfb69468-942c-452a-8211-89c1f396eac4",
   "metadata": {
    "tags": []
   },
   "outputs": [
    {
     "data": {
      "text/html": [
       "<div>\n",
       "<style scoped>\n",
       "    .dataframe tbody tr th:only-of-type {\n",
       "        vertical-align: middle;\n",
       "    }\n",
       "\n",
       "    .dataframe tbody tr th {\n",
       "        vertical-align: top;\n",
       "    }\n",
       "\n",
       "    .dataframe thead th {\n",
       "        text-align: right;\n",
       "    }\n",
       "</style>\n",
       "<table border=\"1\" class=\"dataframe\">\n",
       "  <thead>\n",
       "    <tr style=\"text-align: right;\">\n",
       "      <th></th>\n",
       "      <th>상가업소번호</th>\n",
       "      <th>상호명</th>\n",
       "      <th>지점명</th>\n",
       "      <th>상권업종대분류코드</th>\n",
       "      <th>상권업종대분류명</th>\n",
       "      <th>상권업종중분류코드</th>\n",
       "      <th>상권업종중분류명</th>\n",
       "      <th>상권업종소분류코드</th>\n",
       "      <th>상권업종소분류명</th>\n",
       "      <th>표준산업분류코드</th>\n",
       "      <th>...</th>\n",
       "      <th>건물관리번호</th>\n",
       "      <th>건물명</th>\n",
       "      <th>도로명주소</th>\n",
       "      <th>구우편번호</th>\n",
       "      <th>신우편번호</th>\n",
       "      <th>동정보</th>\n",
       "      <th>층정보</th>\n",
       "      <th>호정보</th>\n",
       "      <th>경도</th>\n",
       "      <th>위도</th>\n",
       "    </tr>\n",
       "  </thead>\n",
       "  <tbody>\n",
       "    <tr>\n",
       "      <th>84699</th>\n",
       "      <td>MA0101202307A0073010</td>\n",
       "      <td>스튜디오양꾸</td>\n",
       "      <td>NaN</td>\n",
       "      <td>M1</td>\n",
       "      <td>과학·기술</td>\n",
       "      <td>M112</td>\n",
       "      <td>전문 디자인</td>\n",
       "      <td>M11203</td>\n",
       "      <td>시각 디자인업</td>\n",
       "      <td>M73203</td>\n",
       "      <td>...</td>\n",
       "      <td>4313010200100340000002471</td>\n",
       "      <td>NaN</td>\n",
       "      <td>충청북도 충주시 성서1길 12-1</td>\n",
       "      <td>380030</td>\n",
       "      <td>27393</td>\n",
       "      <td>NaN</td>\n",
       "      <td>1</td>\n",
       "      <td>NaN</td>\n",
       "      <td>127.932724</td>\n",
       "      <td>36.968996</td>\n",
       "    </tr>\n",
       "    <tr>\n",
       "      <th>84700</th>\n",
       "      <td>MA0101202307A0006560</td>\n",
       "      <td>중원당구클럽</td>\n",
       "      <td>NaN</td>\n",
       "      <td>R1</td>\n",
       "      <td>예술·스포츠</td>\n",
       "      <td>R103</td>\n",
       "      <td>스포츠 서비스</td>\n",
       "      <td>R10310</td>\n",
       "      <td>당구장</td>\n",
       "      <td>R91135</td>\n",
       "      <td>...</td>\n",
       "      <td>4313012200111190000023602</td>\n",
       "      <td>안림엘지아파트</td>\n",
       "      <td>충청북도 충주시 만리산10길 28</td>\n",
       "      <td>380779</td>\n",
       "      <td>27382</td>\n",
       "      <td>NaN</td>\n",
       "      <td>NaN</td>\n",
       "      <td>NaN</td>\n",
       "      <td>127.946245</td>\n",
       "      <td>36.970562</td>\n",
       "    </tr>\n",
       "    <tr>\n",
       "      <th>84701</th>\n",
       "      <td>MA0101202307A0090498</td>\n",
       "      <td>온가네육개장&amp;칡냉면</td>\n",
       "      <td>NaN</td>\n",
       "      <td>I2</td>\n",
       "      <td>음식</td>\n",
       "      <td>I201</td>\n",
       "      <td>한식</td>\n",
       "      <td>I20101</td>\n",
       "      <td>백반/한정식</td>\n",
       "      <td>I56111</td>\n",
       "      <td>...</td>\n",
       "      <td>4313025021102640008000001</td>\n",
       "      <td>NaN</td>\n",
       "      <td>충청북도 충주시 주덕읍 신양2로 27</td>\n",
       "      <td>380884</td>\n",
       "      <td>27462</td>\n",
       "      <td>NaN</td>\n",
       "      <td>1</td>\n",
       "      <td>NaN</td>\n",
       "      <td>127.793743</td>\n",
       "      <td>36.972215</td>\n",
       "    </tr>\n",
       "    <tr>\n",
       "      <th>84702</th>\n",
       "      <td>MA0101202307A0064640</td>\n",
       "      <td>세겜디자인그룹</td>\n",
       "      <td>NaN</td>\n",
       "      <td>M1</td>\n",
       "      <td>과학·기술</td>\n",
       "      <td>M109</td>\n",
       "      <td>기술 서비스</td>\n",
       "      <td>M10901</td>\n",
       "      <td>건축 설계 및 관련 서비스업</td>\n",
       "      <td>M72111</td>\n",
       "      <td>...</td>\n",
       "      <td>4315025021102350000004776</td>\n",
       "      <td>중앙아파트</td>\n",
       "      <td>충청북도 제천시 봉양읍 제원로2길 7</td>\n",
       "      <td>390775</td>\n",
       "      <td>27114</td>\n",
       "      <td>NaN</td>\n",
       "      <td>2</td>\n",
       "      <td>NaN</td>\n",
       "      <td>128.126292</td>\n",
       "      <td>37.133634</td>\n",
       "    </tr>\n",
       "    <tr>\n",
       "      <th>84703</th>\n",
       "      <td>MA0101202307A0056153</td>\n",
       "      <td>평화가스</td>\n",
       "      <td>NaN</td>\n",
       "      <td>G2</td>\n",
       "      <td>소매</td>\n",
       "      <td>G214</td>\n",
       "      <td>연료 소매</td>\n",
       "      <td>G21403</td>\n",
       "      <td>가정용 연료 소매업</td>\n",
       "      <td>G47723</td>\n",
       "      <td>...</td>\n",
       "      <td>4377036031105940002000001</td>\n",
       "      <td>NaN</td>\n",
       "      <td>충청북도 음성군 생극면 오신로118번길 5</td>\n",
       "      <td>369843</td>\n",
       "      <td>27617</td>\n",
       "      <td>NaN</td>\n",
       "      <td>NaN</td>\n",
       "      <td>NaN</td>\n",
       "      <td>127.645943</td>\n",
       "      <td>37.012365</td>\n",
       "    </tr>\n",
       "  </tbody>\n",
       "</table>\n",
       "<p>5 rows × 39 columns</p>\n",
       "</div>"
      ],
      "text/plain": [
       "                     상가업소번호         상호명  지점명 상권업종대분류코드 상권업종대분류명 상권업종중분류코드  \\\n",
       "84699  MA0101202307A0073010      스튜디오양꾸  NaN        M1    과학·기술      M112   \n",
       "84700  MA0101202307A0006560      중원당구클럽  NaN        R1   예술·스포츠      R103   \n",
       "84701  MA0101202307A0090498  온가네육개장&칡냉면  NaN        I2       음식      I201   \n",
       "84702  MA0101202307A0064640     세겜디자인그룹  NaN        M1    과학·기술      M109   \n",
       "84703  MA0101202307A0056153        평화가스  NaN        G2       소매      G214   \n",
       "\n",
       "      상권업종중분류명 상권업종소분류코드         상권업종소분류명 표준산업분류코드  ...  \\\n",
       "84699   전문 디자인    M11203          시각 디자인업   M73203  ...   \n",
       "84700  스포츠 서비스    R10310              당구장   R91135  ...   \n",
       "84701       한식    I20101           백반/한정식   I56111  ...   \n",
       "84702   기술 서비스    M10901  건축 설계 및 관련 서비스업   M72111  ...   \n",
       "84703    연료 소매    G21403       가정용 연료 소매업   G47723  ...   \n",
       "\n",
       "                          건물관리번호      건물명                    도로명주소   구우편번호  \\\n",
       "84699  4313010200100340000002471      NaN       충청북도 충주시 성서1길 12-1  380030   \n",
       "84700  4313012200111190000023602  안림엘지아파트       충청북도 충주시 만리산10길 28  380779   \n",
       "84701  4313025021102640008000001      NaN     충청북도 충주시 주덕읍 신양2로 27  380884   \n",
       "84702  4315025021102350000004776    중앙아파트     충청북도 제천시 봉양읍 제원로2길 7  390775   \n",
       "84703  4377036031105940002000001      NaN  충청북도 음성군 생극면 오신로118번길 5  369843   \n",
       "\n",
       "       신우편번호  동정보  층정보  호정보          경도         위도  \n",
       "84699  27393  NaN    1  NaN  127.932724  36.968996  \n",
       "84700  27382  NaN  NaN  NaN  127.946245  36.970562  \n",
       "84701  27462  NaN    1  NaN  127.793743  36.972215  \n",
       "84702  27114  NaN    2  NaN  128.126292  37.133634  \n",
       "84703  27617  NaN  NaN  NaN  127.645943  37.012365  \n",
       "\n",
       "[5 rows x 39 columns]"
      ]
     },
     "execution_count": 57,
     "metadata": {},
     "output_type": "execute_result"
    }
   ],
   "source": [
    "df.tail()"
   ]
  },
  {
   "cell_type": "code",
   "execution_count": 58,
   "id": "8864903a-75a1-4a6b-b0d4-31ae7a7f46d1",
   "metadata": {
    "tags": []
   },
   "outputs": [
    {
     "name": "stdout",
     "output_type": "stream",
     "text": [
      "<class 'pandas.core.frame.DataFrame'>\n",
      "Index: 2504940 entries, 0 to 84703\n",
      "Data columns (total 39 columns):\n",
      " #   Column     Dtype  \n",
      "---  ------     -----  \n",
      " 0   상가업소번호     object \n",
      " 1   상호명        object \n",
      " 2   지점명        object \n",
      " 3   상권업종대분류코드  object \n",
      " 4   상권업종대분류명   object \n",
      " 5   상권업종중분류코드  object \n",
      " 6   상권업종중분류명   object \n",
      " 7   상권업종소분류코드  object \n",
      " 8   상권업종소분류명   object \n",
      " 9   표준산업분류코드   object \n",
      " 10  표준산업분류명    object \n",
      " 11  시도코드       int64  \n",
      " 12  시도명        object \n",
      " 13  시군구코드      int64  \n",
      " 14  시군구명       object \n",
      " 15  행정동코드      int64  \n",
      " 16  행정동명       object \n",
      " 17  법정동코드      int64  \n",
      " 18  법정동명       object \n",
      " 19  지번코드       int64  \n",
      " 20  대지구분코드     int64  \n",
      " 21  대지구분명      object \n",
      " 22  지번본번지      float64\n",
      " 23  지번부번지      float64\n",
      " 24  지번주소       object \n",
      " 25  도로명코드      float64\n",
      " 26  도로명        object \n",
      " 27  건물본번지      float64\n",
      " 28  건물부번지      float64\n",
      " 29  건물관리번호     object \n",
      " 30  건물명        object \n",
      " 31  도로명주소      object \n",
      " 32  구우편번호      int64  \n",
      " 33  신우편번호      int64  \n",
      " 34  동정보        float64\n",
      " 35  층정보        object \n",
      " 36  호정보        float64\n",
      " 37  경도         float64\n",
      " 38  위도         float64\n",
      "dtypes: float64(9), int64(8), object(22)\n",
      "memory usage: 764.4+ MB\n"
     ]
    }
   ],
   "source": [
    "df.info()"
   ]
  },
  {
   "cell_type": "code",
   "execution_count": 59,
   "id": "ca126463-88d1-4be7-be7a-7b2457cb551f",
   "metadata": {
    "tags": []
   },
   "outputs": [
    {
     "data": {
      "text/plain": [
       "False"
      ]
     },
     "execution_count": 59,
     "metadata": {},
     "output_type": "execute_result"
    }
   ],
   "source": [
    "address = ['경기도', '성남시', '분당구', '불정로', '6', 'NAVER', '그린팩토리']\n",
    "\n",
    "\"경기\" in address"
   ]
  },
  {
   "cell_type": "code",
   "execution_count": 65,
   "id": "213882c5-500f-44e7-9449-f13dfdb7a681",
   "metadata": {
    "tags": []
   },
   "outputs": [
    {
     "data": {
      "text/plain": [
       "pandas.core.frame.DataFrame"
      ]
     },
     "execution_count": 65,
     "metadata": {},
     "output_type": "execute_result"
    }
   ],
   "source": [
    "pd.DataFrame"
   ]
  }
 ],
 "metadata": {
  "kernelspec": {
   "display_name": "Python 3 (ipykernel)",
   "language": "python",
   "name": "python3"
  },
  "language_info": {
   "codemirror_mode": {
    "name": "ipython",
    "version": 3
   },
   "file_extension": ".py",
   "mimetype": "text/x-python",
   "name": "python",
   "nbconvert_exporter": "python",
   "pygments_lexer": "ipython3",
   "version": "3.11.5"
  }
 },
 "nbformat": 4,
 "nbformat_minor": 5
}
